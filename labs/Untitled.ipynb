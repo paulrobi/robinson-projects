{
 "cells": [
  {
   "cell_type": "code",
   "execution_count": null,
   "id": "b3f42cc0",
   "metadata": {},
   "outputs": [],
   "source": [
    "50 + 50"
   ]
  },
  {
   "cell_type": "code",
   "execution_count": null,
   "id": "569602a7",
   "metadata": {},
   "outputs": [],
   "source": [
    "110 - 10"
   ]
  },
  {
   "cell_type": "code",
   "execution_count": null,
   "id": "f2dd0cc6",
   "metadata": {},
   "outputs": [],
   "source": [
    "1/2"
   ]
  },
  {
   "cell_type": "code",
   "execution_count": null,
   "id": "a0f53fb2",
   "metadata": {},
   "outputs": [],
   "source": [
    "a = 5"
   ]
  },
  {
   "cell_type": "code",
   "execution_count": null,
   "id": "fd9a5bac",
   "metadata": {},
   "outputs": [],
   "source": [
    "a"
   ]
  },
  {
   "cell_type": "code",
   "execution_count": null,
   "id": "cba60990",
   "metadata": {},
   "outputs": [],
   "source": [
    "mylist[1]"
   ]
  },
  {
   "cell_type": "code",
   "execution_count": 2,
   "id": "a1f65cb1",
   "metadata": {},
   "outputs": [],
   "source": [
    "mylist = [1,1,[1,2]]"
   ]
  },
  {
   "cell_type": "code",
   "execution_count": 5,
   "id": "0941544c",
   "metadata": {},
   "outputs": [
    {
     "data": {
      "text/plain": [
       "[1, 1, [1, 2]]"
      ]
     },
     "execution_count": 5,
     "metadata": {},
     "output_type": "execute_result"
    }
   ],
   "source": [
    "mylist"
   ]
  },
  {
   "cell_type": "code",
   "execution_count": 8,
   "id": "a55638b2",
   "metadata": {},
   "outputs": [],
   "source": [
    "x = mylist[2][1]"
   ]
  },
  {
   "cell_type": "code",
   "execution_count": 9,
   "id": "90487b99",
   "metadata": {},
   "outputs": [
    {
     "data": {
      "text/plain": [
       "2"
      ]
     },
     "execution_count": 9,
     "metadata": {},
     "output_type": "execute_result"
    }
   ],
   "source": [
    "x"
   ]
  }
 ],
 "metadata": {
  "kernelspec": {
   "display_name": "Python 3 (ipykernel)",
   "language": "python",
   "name": "python3"
  },
  "language_info": {
   "codemirror_mode": {
    "name": "ipython",
    "version": 3
   },
   "file_extension": ".py",
   "mimetype": "text/x-python",
   "name": "python",
   "nbconvert_exporter": "python",
   "pygments_lexer": "ipython3",
   "version": "3.9.7"
  }
 },
 "nbformat": 4,
 "nbformat_minor": 5
}
